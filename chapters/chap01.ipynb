{
  "cells": [
    {
      "cell_type": "markdown",
      "id": "a8b892c8",
      "metadata": {
        "id": "a8b892c8"
      },
      "source": [
        "Printed and electronic copies of *Modeling and Simulation in Python* are available from [No Starch Press](https://nostarch.com/modeling-and-simulation-python) and [Bookshop.org](https://bookshop.org/p/books/modeling-and-simulation-in-python-allen-b-downey/17836697?ean=9781718502161) and [Amazon](https://amzn.to/3y9UxNb)."
      ]
    },
    {
      "cell_type": "markdown",
      "id": "affecting-malta",
      "metadata": {
        "id": "affecting-malta"
      },
      "source": [
        "# Modeling"
      ]
    },
    {
      "cell_type": "markdown",
      "id": "pressed-palestinian",
      "metadata": {
        "tags": [],
        "id": "pressed-palestinian"
      },
      "source": [
        "*Modeling and Simulation in Python*\n",
        "\n",
        "Copyright 2021 Allen Downey\n",
        "\n",
        "License: [Creative Commons Attribution-NonCommercial-ShareAlike 4.0 International](https://creativecommons.org/licenses/by-nc-sa/4.0/)"
      ]
    },
    {
      "cell_type": "markdown",
      "id": "confirmed-budapest",
      "metadata": {
        "tags": [],
        "id": "confirmed-budapest"
      },
      "source": [
        "## Jupyter\n",
        "\n",
        "Welcome to *Modeling and Simulation in Python*, and welcome to Jupyter.\n",
        "\n",
        "This is a Jupyter notebook, which is a development environment where you can write and run Python code.  Each notebook is divided into cells.  Each cell contains either text (like this cell) or Python code."
      ]
    },
    {
      "cell_type": "markdown",
      "id": "danish-scope",
      "metadata": {
        "tags": [],
        "id": "danish-scope"
      },
      "source": [
        "To run a cell, hold down SHIFT and press ENTER.  \n",
        "\n",
        "* If you run a text cell, Jupyter formats the text and displays the result.\n",
        "\n",
        "* If you run a code cell, Jupyter runs the Python code in the cell and displays the result, if any.\n",
        "\n",
        "The following cells check whether the libraries we need are installed.  If so, the cells produce no output.  If not, you'll see updates from the installer."
      ]
    },
    {
      "cell_type": "code",
      "execution_count": 78,
      "id": "passive-dayton",
      "metadata": {
        "tags": [],
        "id": "passive-dayton"
      },
      "outputs": [],
      "source": [
        "# install Pint if necessary\n",
        "\n",
        "try:\n",
        "    from pint import UnitRegistry\n",
        "except ImportError:\n",
        "    !pip install pint"
      ]
    },
    {
      "cell_type": "code",
      "execution_count": 79,
      "id": "prompt-committee",
      "metadata": {
        "tags": [],
        "id": "prompt-committee"
      },
      "outputs": [],
      "source": [
        "# download modsim.py if necessary\n",
        "\n",
        "from os.path import basename, exists\n",
        "\n",
        "def download(url):\n",
        "    filename = basename(url)\n",
        "    if not exists(filename):\n",
        "        from urllib.request import urlretrieve\n",
        "        local, _ = urlretrieve(url, filename)\n",
        "        print('Downloaded ' + local)\n",
        "\n",
        "download('https://github.com/AllenDowney/ModSimPy/raw/master/' +\n",
        "         'modsim.py')"
      ]
    },
    {
      "cell_type": "code",
      "execution_count": 80,
      "id": "fifteen-train",
      "metadata": {
        "tags": [],
        "id": "fifteen-train"
      },
      "outputs": [],
      "source": [
        "# import functions from modsim\n",
        "\n",
        "from modsim import *"
      ]
    },
    {
      "cell_type": "markdown",
      "id": "chronic-moore",
      "metadata": {
        "id": "chronic-moore"
      },
      "source": [
        "This chapter introduces the modeling framework we will use throughout the book, and works through our first example, using a simple model of physics to evaluate the claim that a penny falling from the height of the Empire State Building could kill someone if it hit them on the head. Also, you'll see how to do computation in Python with units like meters and seconds."
      ]
    },
    {
      "cell_type": "markdown",
      "id": "extensive-proposition",
      "metadata": {
        "id": "extensive-proposition"
      },
      "source": [
        "This chapter is available as a Jupyter notebook where you can read the text, run the code, and work on the exercises.\n",
        "Click here to access the notebooks: <https://allendowney.github.io/ModSimPy/>."
      ]
    },
    {
      "cell_type": "markdown",
      "id": "hourly-financing",
      "metadata": {
        "id": "hourly-financing"
      },
      "source": [
        "## The Modeling Framework\n",
        "\n",
        "This book is about modeling and simulating physical systems. The\n",
        "following diagram shows what I mean by *modeling*:\n",
        "\n",
        "![Diagram of the modeling framework.](https://github.com/AllenDowney/ModSim/raw/main/figs/modeling_framework.png)"
      ]
    },
    {
      "cell_type": "markdown",
      "id": "structured-receiver",
      "metadata": {
        "id": "structured-receiver"
      },
      "source": [
        "Starting in the lower left, the *system* is something in the real\n",
        "world we are interested in.\n",
        "To model the system, we have to decide which elements of the real world to include and which we can leave out.\n",
        "This process is called *abstraction*.\n",
        "\n",
        "The result of abstraction is a *model*, which is a description of the system that includes only the features we think are essential. A model\n",
        "can be represented in the form of diagrams and equations, which can be\n",
        "used for mathematical *analysis*. It can also be implemented in the\n",
        "form of a computer program, which can run *simulations*.\n",
        "\n",
        "The result of analysis and simulation might be a *prediction* about\n",
        "what the system will do, an *explanation* of why it behaves the way it\n",
        "does, or a *design* intended to achieve a purpose.\n",
        "\n",
        "We can *validate* predictions and test designs by taking\n",
        "*measurements* from the real world and comparing the *data* we get\n",
        "with the results from analysis and simulation."
      ]
    },
    {
      "cell_type": "markdown",
      "id": "center-accommodation",
      "metadata": {
        "id": "center-accommodation"
      },
      "source": [
        "For any physical system, there are many possible models, each one\n",
        "including and excluding different features, or including different\n",
        "levels of detail. The goal of the modeling process is to find the model\n",
        "best suited to its purpose (prediction, explanation, or design).\n",
        "\n",
        "Sometimes the best model is the most detailed. If we include more\n",
        "features, the model is more realistic, and we expect its predictions to\n",
        "be more accurate.\n",
        "But often a simpler model is better. If we include only the essential\n",
        "features and leave out the rest, we get models that are easier to work\n",
        "with, and the explanations they provide can be clearer and more\n",
        "compelling."
      ]
    },
    {
      "cell_type": "markdown",
      "id": "confirmed-highlight",
      "metadata": {
        "id": "confirmed-highlight"
      },
      "source": [
        "As an example, suppose someone asks you why the orbit of the Earth is\n",
        "elliptical. If you model the Earth and Sun as point masses (ignoring\n",
        "their actual size), compute the gravitational force between them using\n",
        "Newton's law of universal gravitation, and compute the resulting orbit\n",
        "using Newton's laws of motion, you can show that the result is an\n",
        "ellipse.\n",
        "Of course, the actual orbit of Earth is not a perfect ellipse, because\n",
        "of the gravitational forces of the Moon, Jupiter, and other objects in\n",
        "the solar system, and because Newton's laws of motion are only\n",
        "approximately true (they don't take into account relativistic effects).\n",
        "But adding these features to the model would not improve the\n",
        "explanation; more detail would only be a distraction from the\n",
        "fundamental cause. However, if the goal is to predict the position of\n",
        "the Earth with great precision, including more details might be\n",
        "necessary."
      ]
    },
    {
      "cell_type": "markdown",
      "id": "stretch-geneva",
      "metadata": {
        "id": "stretch-geneva"
      },
      "source": [
        "Choosing the best model depends on what the model is for. It is usually\n",
        "a good idea to start with a simple model, even if it is likely to be too\n",
        "simple, and test whether it is good enough for its purpose. Then you can\n",
        "add features gradually, starting with the ones you expect to be most\n",
        "essential. This process is called *iterative modeling*.\n",
        "\n",
        "Comparing results of successive models provides a form of *internal\n",
        "validation*, so you can catch conceptual, mathematical, and software\n",
        "errors. And by adding and removing features, you can tell which ones\n",
        "have the biggest effect on the results, and which can be ignored.\n",
        "\n",
        "Comparing results to data from the real world provides *external\n",
        "validation*, which is generally the strongest test.\n",
        "\n",
        "The modeling framework is pretty abstract; the following example might make it clearer."
      ]
    },
    {
      "cell_type": "markdown",
      "id": "criminal-lunch",
      "metadata": {
        "id": "criminal-lunch"
      },
      "source": [
        "## The Falling Penny Myth\n",
        "\n",
        "You might have heard that a\n",
        "penny dropped from the top of the Empire State Building would be going\n",
        "so fast when it hit the pavement that it would be embedded in the\n",
        "concrete; or if it hit a person, it would break their skull.\n",
        "\n",
        "We can test this myth by making and analyzing two models. For the first model,\n",
        "we'll assume that the effect of air resistance is small. In that case, the primary force acting on the penny is gravity, which causes the penny to accelerate downward.\n",
        "\n",
        "If the initial velocity is 0 and the acceleration, $a$, is constant, the velocity after $t$ seconds is\n",
        "\n",
        "$$v = a t$$\n",
        "\n",
        "and the distance the penny has dropped is\n",
        "\n",
        "$$x = a t^2 / 2$$\n",
        "\n",
        "To find the time until the penny reaches the sidewalk, we can solve for $t$:\n",
        "\n",
        "$$t = \\sqrt{ 2 x / a}$$\n",
        "\n",
        "Plugging in the acceleration of gravity, $a = 9.8$ m/s$^2$, and the height of the Empire State Building, $x = 381$ m, we get $t = 8.8$ s.\n",
        "\n",
        "Then computing $v = a t$ we get a velocity on impact of $86$ m/s, which is about 190 miles per hour. That sounds like it could hurt."
      ]
    },
    {
      "cell_type": "markdown",
      "id": "documentary-diagnosis",
      "metadata": {
        "id": "documentary-diagnosis"
      },
      "source": [
        "Of course, these results are not exact because the model is based on simplifications. For example, we assume that gravity is constant.\n",
        "In fact, the force of gravity is different on different parts of the globe, and it gets weaker as you move away from the surface.\n",
        "But these differences are small, so ignoring them is probably a good choice for this problem.\n",
        "\n",
        "On the other hand, ignoring air resistance is not a good choice, because in this scenario its effect is substantial.\n",
        "Once the penny gets to about 29 m/s, the upward force of air resistance equals the downward force of gravity, so the penny stops accelerating.\n",
        "This is the *terminal velocity* of the penny in air.\n",
        "\n",
        "And that suggests a second model, where the penny accelerates until it reaches terminal velocity; after that, acceleration is 0 and velocity is constant.\n",
        "In this model, the penny hits the sidewalk at about 29 m/s.\n",
        "That's much less than 86 m/s, which is what the first model predicts.\n",
        "Getting hit with a penny at that speed might hurt, but it would be unlikely to cause real harm. And it would not damage concrete."
      ]
    },
    {
      "cell_type": "markdown",
      "id": "recent-appliance",
      "metadata": {
        "id": "recent-appliance"
      },
      "source": [
        "The statistician George Box famously said \"All models are wrong, but\n",
        "some are useful.\" He was talking about statistical models, but his wise words apply to all kinds of models. Our first model, which ignores air resistance, is very wrong, and probably not useful. The second model, which takes air resistance into account, is still wrong, but it's better, and it's good enough to refute the myth.\n",
        "\n",
        "The television show *Mythbusters* has tested the myth of the falling\n",
        "penny more carefully; you can view the results at\n",
        "<https://modsimpy.com/myth/>. Their work is based on a mathematical model of motion, measurements to determine the force of air resistance on a penny, and a physical model of a human head."
      ]
    },
    {
      "cell_type": "markdown",
      "id": "brief-zoning",
      "metadata": {
        "id": "brief-zoning"
      },
      "source": [
        "## Computation In Python\n",
        "\n",
        "Let me show you how I computed the results from the\n",
        "previous section using Python.\n",
        "First we'll create a variable to represent acceleration due to gravity in meters per second squared (m/s$^2$)."
      ]
    },
    {
      "cell_type": "code",
      "execution_count": 81,
      "id": "eleven-marine",
      "metadata": {
        "id": "eleven-marine"
      },
      "outputs": [],
      "source": [
        "a = 9.8"
      ]
    },
    {
      "cell_type": "markdown",
      "id": "upset-myanmar",
      "metadata": {
        "id": "upset-myanmar"
      },
      "source": [
        "A *variable* is a name that corresponds to a value. In this example, the name is `a` and the value is the number `9.8`.\n",
        "\n",
        "Suppose we let the penny drop for $3.4$ seconds (s).  I'll create a variable to represent this time:"
      ]
    },
    {
      "cell_type": "code",
      "execution_count": 82,
      "id": "following-launch",
      "metadata": {
        "id": "following-launch"
      },
      "outputs": [],
      "source": [
        "t = 3.4"
      ]
    },
    {
      "cell_type": "markdown",
      "id": "greek-heritage",
      "metadata": {
        "id": "greek-heritage"
      },
      "source": [
        "Now we can compute the velocity of the penny after `t` seconds."
      ]
    },
    {
      "cell_type": "code",
      "execution_count": 83,
      "id": "mature-duration",
      "metadata": {
        "id": "mature-duration"
      },
      "outputs": [],
      "source": [
        "v = a * t"
      ]
    },
    {
      "cell_type": "markdown",
      "id": "serial-pilot",
      "metadata": {
        "id": "serial-pilot"
      },
      "source": [
        "Python uses the symbol `*` for multiplication.  The other arithmetic operators are `+` for addition, `-` for subtraction, `/` for division, and `**` for exponentiation."
      ]
    },
    {
      "cell_type": "markdown",
      "id": "qualified-diabetes",
      "metadata": {
        "id": "qualified-diabetes"
      },
      "source": [
        "After you assign a value to a variable, you can display the value like this:"
      ]
    },
    {
      "cell_type": "code",
      "execution_count": 84,
      "id": "considered-inclusion",
      "metadata": {
        "colab": {
          "base_uri": "https://localhost:8080/"
        },
        "id": "considered-inclusion",
        "outputId": "a8b8064e-9d0b-4771-df12-17800069f744"
      },
      "outputs": [
        {
          "output_type": "execute_result",
          "data": {
            "text/plain": [
              "33.32"
            ]
          },
          "metadata": {},
          "execution_count": 84
        }
      ],
      "source": [
        "v"
      ]
    },
    {
      "cell_type": "markdown",
      "id": "northern-saturday",
      "metadata": {
        "id": "northern-saturday"
      },
      "source": [
        "After $3.4$ s, the velocity of the penny is about $33$ m/s (ignoring air resistance).  Now let's see how far it would travel during that time:"
      ]
    },
    {
      "cell_type": "code",
      "execution_count": 85,
      "id": "valued-electricity",
      "metadata": {
        "colab": {
          "base_uri": "https://localhost:8080/"
        },
        "id": "valued-electricity",
        "outputId": "d962f0fe-a333-4037-c527-0de9139830e4"
      },
      "outputs": [
        {
          "output_type": "execute_result",
          "data": {
            "text/plain": [
              "56.644"
            ]
          },
          "metadata": {},
          "execution_count": 85
        }
      ],
      "source": [
        "x = a * t**2 / 2\n",
        "x"
      ]
    },
    {
      "cell_type": "markdown",
      "id": "yellow-business",
      "metadata": {
        "id": "yellow-business"
      },
      "source": [
        "It would travel about $56$ m.  Now, going in the other direction, let's compute the time it takes to fall 381 m, the height of the Empire State Building."
      ]
    },
    {
      "cell_type": "code",
      "execution_count": 86,
      "id": "closed-month",
      "metadata": {
        "id": "closed-month"
      },
      "outputs": [],
      "source": [
        "h = 381"
      ]
    },
    {
      "cell_type": "markdown",
      "id": "fuzzy-lease",
      "metadata": {
        "id": "fuzzy-lease"
      },
      "source": [
        "For this computation, we need the square root function, `sqrt`, which is provided by a library called NumPy.\n",
        "Before we can use it, we have to import it like this:"
      ]
    },
    {
      "cell_type": "code",
      "execution_count": 87,
      "id": "nuclear-clone",
      "metadata": {
        "id": "nuclear-clone"
      },
      "outputs": [],
      "source": [
        "from numpy import sqrt"
      ]
    },
    {
      "cell_type": "markdown",
      "id": "unlimited-swiss",
      "metadata": {
        "id": "unlimited-swiss"
      },
      "source": [
        "Now we can use it like this:"
      ]
    },
    {
      "cell_type": "code",
      "execution_count": 88,
      "id": "quarterly-nightmare",
      "metadata": {
        "colab": {
          "base_uri": "https://localhost:8080/"
        },
        "id": "quarterly-nightmare",
        "outputId": "8acc6018-540b-4939-c457-ee759a3a81e3"
      },
      "outputs": [
        {
          "output_type": "execute_result",
          "data": {
            "text/plain": [
              "8.817885349720552"
            ]
          },
          "metadata": {},
          "execution_count": 88
        }
      ],
      "source": [
        "t = sqrt(2 * h / a)\n",
        "t"
      ]
    },
    {
      "cell_type": "markdown",
      "id": "velvet-oklahoma",
      "metadata": {
        "id": "velvet-oklahoma"
      },
      "source": [
        "With no air resistance, it would take about $8.8$ s for the penny to reach the sidewalk."
      ]
    },
    {
      "cell_type": "code",
      "execution_count": 89,
      "id": "quality-external",
      "metadata": {
        "colab": {
          "base_uri": "https://localhost:8080/"
        },
        "id": "quality-external",
        "outputId": "126f33f7-6172-484f-de39-cc6f2fbafba5"
      },
      "outputs": [
        {
          "output_type": "execute_result",
          "data": {
            "text/plain": [
              "86.41527642726142"
            ]
          },
          "metadata": {},
          "execution_count": 89
        }
      ],
      "source": [
        "v = a * t\n",
        "v"
      ]
    },
    {
      "cell_type": "markdown",
      "id": "active-lobby",
      "metadata": {
        "id": "active-lobby"
      },
      "source": [
        "And its velocity on impact would be about $86$ m/s."
      ]
    },
    {
      "cell_type": "markdown",
      "id": "human-phase",
      "metadata": {
        "id": "human-phase"
      },
      "source": [
        "### False Precision\n",
        "\n",
        "Python displays results with about 16 digits, which gives the impression that they are very precise, but don't be fooled.\n",
        "The numbers we get out are only as good as the numbers we put in.\n",
        "\n",
        "For example, the \"roof height\" of the Empire State Building is $380$ m (according to Wikipedia: <https://en.wikipedia.org/wiki/Empire_State_Building>).\n",
        "I chose $h=381$ m for this example on the assumption that the observation deck is on the roof and you drop the penny from a 1 meter railing.\n",
        "But that's probably not right, so we should treat this value as an approximation where only the first two digits are likely to be right.\n",
        "\n",
        "If the precision of the inputs is two digits, the precision of the outputs is two digits, *at most*.\n",
        "That's why, if the output is `86.41527642726142`, I report it as \"about 86\"."
      ]
    },
    {
      "cell_type": "markdown",
      "id": "clinical-blackjack",
      "metadata": {
        "id": "clinical-blackjack"
      },
      "source": [
        "### Computation With Units\n",
        "\n",
        "The computations we just did use numbers without units.\n",
        "When we set `h=381`, we left out the meters, and when we set `a=9.8`, we left out the meters per second squared.\n",
        "And, when we got the result `v=86`, we added back the meters per second.\n",
        "\n",
        "Leaving units out of computation is a common practice, but it tends to cause errors, including the very expensive failure of the Mars Climate Orbiter in 1999 (see <https://en.wikipedia.org/wiki/Mars_Climate_Orbiter>).\n",
        "When possible, it is better to include units in the computation.\n",
        "\n",
        "To represent units, we'll use a library called Pint (<https://pint.readthedocs.io/>).\n",
        "To use it, we have to import a function called `UnitRegistry` and call it like this:"
      ]
    },
    {
      "cell_type": "code",
      "execution_count": 90,
      "id": "lovely-declaration",
      "metadata": {
        "id": "lovely-declaration"
      },
      "outputs": [],
      "source": [
        "from pint import UnitRegistry\n",
        "\n",
        "units = UnitRegistry()"
      ]
    },
    {
      "cell_type": "markdown",
      "id": "consecutive-sleeve",
      "metadata": {
        "id": "consecutive-sleeve"
      },
      "source": [
        "The result is an object that contains variables representing pretty much every unit you've heard of.\n",
        "For example:"
      ]
    },
    {
      "cell_type": "code",
      "execution_count": 91,
      "id": "cardiac-class",
      "metadata": {
        "colab": {
          "base_uri": "https://localhost:8080/",
          "height": 34
        },
        "id": "cardiac-class",
        "outputId": "ee432e3b-8da4-4763-9361-e2b4bcbc6e3c"
      },
      "outputs": [
        {
          "output_type": "execute_result",
          "data": {
            "text/plain": [
              "<Unit('league')>"
            ],
            "text/html": [
              "league"
            ],
            "text/latex": "$\\mathrm{league}$"
          },
          "metadata": {},
          "execution_count": 91
        }
      ],
      "source": [
        "units.league"
      ]
    },
    {
      "cell_type": "code",
      "execution_count": 92,
      "id": "phantom-copper",
      "metadata": {
        "colab": {
          "base_uri": "https://localhost:8080/",
          "height": 34
        },
        "id": "phantom-copper",
        "outputId": "4939478e-ca7b-46d8-d1d9-199b16f85277"
      },
      "outputs": [
        {
          "output_type": "execute_result",
          "data": {
            "text/plain": [
              "<Unit('fortnight')>"
            ],
            "text/html": [
              "fortnight"
            ],
            "text/latex": "$\\mathrm{fortnight}$"
          },
          "metadata": {},
          "execution_count": 92
        }
      ],
      "source": [
        "units.fortnight"
      ]
    },
    {
      "cell_type": "markdown",
      "id": "unlike-opera",
      "metadata": {
        "id": "unlike-opera"
      },
      "source": [
        "But leagues and fortnights are not part of the International System of Units\n",
        "(see <https://en.wikipedia.org/wiki/International_System_of_Units>); in the jargon, they are not \"SI units\".\n",
        "Instead, we will use `meter` and `second`."
      ]
    },
    {
      "cell_type": "code",
      "execution_count": 93,
      "id": "russian-popularity",
      "metadata": {
        "colab": {
          "base_uri": "https://localhost:8080/",
          "height": 34
        },
        "id": "russian-popularity",
        "outputId": "028f58cd-4372-4656-ce9a-c306196d51f0"
      },
      "outputs": [
        {
          "output_type": "execute_result",
          "data": {
            "text/plain": [
              "<Unit('meter')>"
            ],
            "text/html": [
              "meter"
            ],
            "text/latex": "$\\mathrm{meter}$"
          },
          "metadata": {},
          "execution_count": 93
        }
      ],
      "source": [
        "meter = units.meter\n",
        "meter"
      ]
    },
    {
      "cell_type": "code",
      "execution_count": 94,
      "id": "endless-paint",
      "metadata": {
        "colab": {
          "base_uri": "https://localhost:8080/",
          "height": 34
        },
        "id": "endless-paint",
        "outputId": "30615da4-153c-49f1-b921-55305a53b07c"
      },
      "outputs": [
        {
          "output_type": "execute_result",
          "data": {
            "text/plain": [
              "<Unit('second')>"
            ],
            "text/html": [
              "second"
            ],
            "text/latex": "$\\mathrm{second}$"
          },
          "metadata": {},
          "execution_count": 94
        }
      ],
      "source": [
        "second = units.second\n",
        "second"
      ]
    },
    {
      "cell_type": "markdown",
      "id": "spiritual-scenario",
      "metadata": {
        "tags": [],
        "id": "spiritual-scenario"
      },
      "source": [
        "To find out what other units are defined, type `units.` (including the period) in the next cell.\n",
        "\n",
        "If you are on Colab, a pop-up menu should appear with a list of units.\n",
        "In other Jupyter environments, you might have to press `TAB` to get the menu."
      ]
    },
    {
      "cell_type": "code",
      "execution_count": 94,
      "id": "saving-suggestion",
      "metadata": {
        "tags": [],
        "id": "saving-suggestion"
      },
      "outputs": [],
      "source": []
    },
    {
      "cell_type": "markdown",
      "id": "everyday-location",
      "metadata": {
        "id": "everyday-location"
      },
      "source": [
        "We can use `meter` and `second` to create a variable named `a` and give it the value of acceleration due to gravity."
      ]
    },
    {
      "cell_type": "code",
      "execution_count": 95,
      "id": "earlier-bandwidth",
      "metadata": {
        "colab": {
          "base_uri": "https://localhost:8080/",
          "height": 38
        },
        "id": "earlier-bandwidth",
        "outputId": "27be69e7-eadb-4589-b2e3-69eda08c48e1"
      },
      "outputs": [
        {
          "output_type": "execute_result",
          "data": {
            "text/plain": [
              "<Quantity(9.8, 'meter / second ** 2')>"
            ],
            "text/html": [
              "9.8 meter/second<sup>2</sup>"
            ],
            "text/latex": "$9.8\\ \\frac{\\mathrm{meter}}{\\mathrm{second}^{2}}$"
          },
          "metadata": {},
          "execution_count": 95
        }
      ],
      "source": [
        "a = 9.8 * meter / second**2\n",
        "a"
      ]
    },
    {
      "cell_type": "markdown",
      "id": "generic-bowling",
      "metadata": {
        "id": "generic-bowling"
      },
      "source": [
        "The result is a *quantity* with two parts, called `magnitude` and `units`, which we can access like this:"
      ]
    },
    {
      "cell_type": "code",
      "execution_count": 96,
      "id": "missing-privilege",
      "metadata": {
        "colab": {
          "base_uri": "https://localhost:8080/"
        },
        "id": "missing-privilege",
        "outputId": "67b598d1-0376-41b8-8222-d171f7509f64"
      },
      "outputs": [
        {
          "output_type": "execute_result",
          "data": {
            "text/plain": [
              "9.8"
            ]
          },
          "metadata": {},
          "execution_count": 96
        }
      ],
      "source": [
        "a.magnitude"
      ]
    },
    {
      "cell_type": "code",
      "execution_count": 97,
      "id": "fourth-swedish",
      "metadata": {
        "colab": {
          "base_uri": "https://localhost:8080/",
          "height": 38
        },
        "id": "fourth-swedish",
        "outputId": "d4c07073-cc52-48d6-a83f-2440b5282cda"
      },
      "outputs": [
        {
          "output_type": "execute_result",
          "data": {
            "text/plain": [
              "<Unit('meter / second ** 2')>"
            ],
            "text/html": [
              "meter/second<sup>2</sup>"
            ],
            "text/latex": "$\\frac{\\mathrm{meter}}{\\mathrm{second}^{2}}$"
          },
          "metadata": {},
          "execution_count": 97
        }
      ],
      "source": [
        "a.units"
      ]
    },
    {
      "cell_type": "markdown",
      "id": "realistic-techno",
      "metadata": {
        "id": "realistic-techno"
      },
      "source": [
        "We can also create a quantity that represents $3.4$ s."
      ]
    },
    {
      "cell_type": "code",
      "execution_count": 98,
      "id": "apart-france",
      "metadata": {
        "colab": {
          "base_uri": "https://localhost:8080/",
          "height": 34
        },
        "id": "apart-france",
        "outputId": "8338572e-45d7-4cf8-f0ee-5b5a299f32ea"
      },
      "outputs": [
        {
          "output_type": "execute_result",
          "data": {
            "text/plain": [
              "<Quantity(3.4, 'second')>"
            ],
            "text/html": [
              "3.4 second"
            ],
            "text/latex": "$3.4\\ \\mathrm{second}$"
          },
          "metadata": {},
          "execution_count": 98
        }
      ],
      "source": [
        "t = 3.4 * second\n",
        "t"
      ]
    },
    {
      "cell_type": "markdown",
      "id": "severe-share",
      "metadata": {
        "id": "severe-share"
      },
      "source": [
        "And use it to compute the distance a penny would fall after `t` seconds with constant acceleration `a`.  "
      ]
    },
    {
      "cell_type": "code",
      "execution_count": 99,
      "id": "alien-scout",
      "metadata": {
        "colab": {
          "base_uri": "https://localhost:8080/",
          "height": 34
        },
        "id": "alien-scout",
        "outputId": "8af86047-32c3-4738-8829-274abc1748b3"
      },
      "outputs": [
        {
          "output_type": "execute_result",
          "data": {
            "text/plain": [
              "<Quantity(56.644, 'meter')>"
            ],
            "text/html": [
              "56.644 meter"
            ],
            "text/latex": "$56.644\\ \\mathrm{meter}$"
          },
          "metadata": {},
          "execution_count": 99
        }
      ],
      "source": [
        "a * t**2 / 2"
      ]
    },
    {
      "cell_type": "markdown",
      "id": "wicked-indianapolis",
      "metadata": {
        "id": "wicked-indianapolis"
      },
      "source": [
        "Notice that the units of the result are correct.\n",
        "If we create a quantity to represent the height of the Empire State Building:"
      ]
    },
    {
      "cell_type": "code",
      "execution_count": 100,
      "id": "confidential-costs",
      "metadata": {
        "id": "confidential-costs"
      },
      "outputs": [],
      "source": [
        "h = 381 * meter"
      ]
    },
    {
      "cell_type": "markdown",
      "id": "hollow-programmer",
      "metadata": {
        "id": "hollow-programmer"
      },
      "source": [
        "We can use it to compute the time the penny would take to reach the sidewalk."
      ]
    },
    {
      "cell_type": "code",
      "execution_count": 101,
      "id": "studied-opera",
      "metadata": {
        "colab": {
          "base_uri": "https://localhost:8080/",
          "height": 34
        },
        "id": "studied-opera",
        "outputId": "1f2a187a-d1d9-47b7-ea4c-bf3670cf1b95"
      },
      "outputs": [
        {
          "output_type": "execute_result",
          "data": {
            "text/plain": [
              "<Quantity(8.81788535, 'second')>"
            ],
            "text/html": [
              "8.817885349720552 second"
            ],
            "text/latex": "$8.817885349720552\\ \\mathrm{second}$"
          },
          "metadata": {},
          "execution_count": 101
        }
      ],
      "source": [
        "t = sqrt(2 * h / a)\n",
        "t"
      ]
    },
    {
      "cell_type": "markdown",
      "id": "seasonal-laser",
      "metadata": {
        "id": "seasonal-laser"
      },
      "source": [
        "And the velocity of the penny on impact:"
      ]
    },
    {
      "cell_type": "code",
      "execution_count": 102,
      "id": "exterior-greek",
      "metadata": {
        "colab": {
          "base_uri": "https://localhost:8080/",
          "height": 34
        },
        "id": "exterior-greek",
        "outputId": "543a781d-5eec-4596-f17f-a665e86885a0"
      },
      "outputs": [
        {
          "output_type": "execute_result",
          "data": {
            "text/plain": [
              "<Quantity(86.4152764, 'meter / second')>"
            ],
            "text/html": [
              "86.41527642726142 meter/second"
            ],
            "text/latex": "$86.41527642726142\\ \\frac{\\mathrm{meter}}{\\mathrm{second}}$"
          },
          "metadata": {},
          "execution_count": 102
        }
      ],
      "source": [
        "v = a * t\n",
        "v"
      ]
    },
    {
      "cell_type": "code",
      "execution_count": 103,
      "id": "impaired-puzzle",
      "metadata": {
        "tags": [],
        "id": "impaired-puzzle"
      },
      "outputs": [],
      "source": [
        "assert abs(v.magnitude - 86.41527642726142) < 1e-7"
      ]
    },
    {
      "cell_type": "markdown",
      "id": "superior-biography",
      "metadata": {
        "id": "superior-biography"
      },
      "source": [
        "As in the previous section, the result is about $86$, but now it has the correct units, m/s.\n",
        "\n",
        "With Pint quantities, we can convert from one set of units to another like this:"
      ]
    },
    {
      "cell_type": "code",
      "execution_count": 104,
      "id": "antique-landing",
      "metadata": {
        "id": "antique-landing"
      },
      "outputs": [],
      "source": [
        "mile = units.mile\n",
        "hour = units.hour"
      ]
    },
    {
      "cell_type": "code",
      "execution_count": 105,
      "id": "included-failure",
      "metadata": {
        "colab": {
          "base_uri": "https://localhost:8080/",
          "height": 34
        },
        "id": "included-failure",
        "outputId": "20c88680-3450-414f-edd7-f2afa04da817"
      },
      "outputs": [
        {
          "output_type": "execute_result",
          "data": {
            "text/plain": [
              "<Quantity(193.305468, 'mile / hour')>"
            ],
            "text/html": [
              "193.30546802805432 mile/hour"
            ],
            "text/latex": "$193.30546802805432\\ \\frac{\\mathrm{mile}}{\\mathrm{hour}}$"
          },
          "metadata": {},
          "execution_count": 105
        }
      ],
      "source": [
        "v.to(mile/hour)"
      ]
    },
    {
      "cell_type": "markdown",
      "id": "progressive-charleston",
      "metadata": {
        "id": "progressive-charleston"
      },
      "source": [
        "If you are more familiar with miles per hour, this result might be easier to interpret.\n",
        "And it might give you a sense that this model is not realistic."
      ]
    },
    {
      "cell_type": "markdown",
      "id": "continuing-democrat",
      "metadata": {
        "id": "continuing-democrat"
      },
      "source": [
        "## Summary\n",
        "\n",
        "This chapter introduces a modeling framework that consists of three steps:\n",
        "\n",
        "* Abstraction is the process of defining a model by deciding which elements of the real world to include and which can be left out.\n",
        "\n",
        "* Analysis and simulation are ways to use a model to generate predictions, explain why things behave as they do, and design things that behave as we want.\n",
        "\n",
        "* Validation is how we test whether the model is right, often by comparing predictions with measurements from the real world.\n",
        "\n",
        "As a first example, we modeled a penny dropped from the Empire State building, including gravity but ignoring air resistance.\n",
        "In the exercises, you'll have a chance to try a better model, including air resistance.\n",
        "\n",
        "This chapter also presents Pint, a library for doing computation with units, which is convenient for converting between different units and helpful for avoiding catastrophic errors."
      ]
    },
    {
      "cell_type": "markdown",
      "id": "thousand-equation",
      "metadata": {
        "id": "thousand-equation"
      },
      "source": [
        "## Exercises\n",
        "\n",
        "Before you go on, you might want to work on the following exercises."
      ]
    },
    {
      "cell_type": "markdown",
      "id": "periodic-objective",
      "metadata": {
        "id": "periodic-objective"
      },
      "source": [
        "### Exercise 1\n",
        "\n",
        "In mathematical notation, we can write an equation like $v = a t$ and it's understood that we are multiplying $a$ and $t$.\n",
        "But that doesn't work in Python.  If you put two variables side-by-side, like this:\n",
        "\n",
        "```\n",
        "v = a t\n",
        "```\n",
        "\n",
        "you'll get a *syntax error*, which means that something is wrong with the structure of the program. Try it out so you see what the error message looks like."
      ]
    },
    {
      "cell_type": "code",
      "source": [
        "#I had a sybtax error that read \"Invalid sytax\"\n",
        "v = a*t"
      ],
      "metadata": {
        "id": "Z1pzSwNhqF6C"
      },
      "id": "Z1pzSwNhqF6C",
      "execution_count": 106,
      "outputs": []
    },
    {
      "cell_type": "code",
      "execution_count": 107,
      "id": "exempt-delight",
      "metadata": {
        "tags": [],
        "colab": {
          "base_uri": "https://localhost:8080/",
          "height": 34
        },
        "id": "exempt-delight",
        "outputId": "1eec5c81-84f9-499c-9c17-ee2788e45e1b"
      },
      "outputs": [
        {
          "output_type": "execute_result",
          "data": {
            "text/plain": [
              "<Quantity(33.32, 'meter / second')>"
            ],
            "text/html": [
              "33.32 meter/second"
            ],
            "text/latex": "$33.32\\ \\frac{\\mathrm{meter}}{\\mathrm{second}}$"
          },
          "metadata": {},
          "execution_count": 107
        }
      ],
      "source": [
        "a = 9.8 * meter / second**2\n",
        "t = 3.4 * second\n",
        "\n",
        "v = a * t\n",
        "v"
      ]
    },
    {
      "cell_type": "markdown",
      "id": "pressing-sugar",
      "metadata": {
        "id": "pressing-sugar"
      },
      "source": [
        "### Exercise 2\n",
        "\n",
        "In this chapter we used the `sqrt` function from the NumPy library.  NumPy also provides a variable named `pi` that contains an approximation of the mathematical constant $\\pi$.\n",
        "We can import it like this:"
      ]
    },
    {
      "cell_type": "code",
      "execution_count": 108,
      "id": "legal-observer",
      "metadata": {
        "colab": {
          "base_uri": "https://localhost:8080/"
        },
        "id": "legal-observer",
        "outputId": "10f0ada1-7be3-46a5-adc0-3a60590d1a1f"
      },
      "outputs": [
        {
          "output_type": "execute_result",
          "data": {
            "text/plain": [
              "3.141592653589793"
            ]
          },
          "metadata": {},
          "execution_count": 108
        }
      ],
      "source": [
        "from numpy import pi\n",
        "pi"
      ]
    },
    {
      "cell_type": "markdown",
      "id": "aggregate-mambo",
      "metadata": {
        "id": "aggregate-mambo"
      },
      "source": [
        "NumPy provides other functions we'll use, including `log`, `exp`, `sin`, and `cos`.\n",
        "Import `sin` and `cos` from NumPy and compute\n",
        "\n",
        "$$sin^2 (\\pi/4) + cos^2 (\\pi/4)$$\n",
        "\n",
        "Note: A mathematical identity tells us that the answer should be $1$."
      ]
    },
    {
      "cell_type": "code",
      "execution_count": 109,
      "id": "pressing-belgium",
      "metadata": {
        "colab": {
          "base_uri": "https://localhost:8080/"
        },
        "id": "pressing-belgium",
        "outputId": "16868a77-7b20-4b3f-8f0e-4738eec2e80e"
      },
      "outputs": [
        {
          "output_type": "execute_result",
          "data": {
            "text/plain": [
              "1.0"
            ]
          },
          "metadata": {},
          "execution_count": 109
        }
      ],
      "source": [
        "from numpy import sin, cos\n",
        "sin(pi/4)**2 + cos(pi/4)**2"
      ]
    },
    {
      "cell_type": "markdown",
      "id": "unlimited-delivery",
      "metadata": {
        "id": "unlimited-delivery"
      },
      "source": [
        "### Exercise 3\n",
        "\n",
        "Suppose you bring a 10 foot pole to the top of the Empire State Building and use it to drop the penny from `h` plus 10 feet.\n",
        "\n",
        "Define a variable named `foot` that contains the unit `foot` provided by the `UnitRegistry` we called `units`.  Define a variable named `pole_height` and give it the value 10 feet.\n",
        "\n",
        "What happens if you add `h`, which is in units of meters, to `pole_height`, which is in units of feet?  What happens if you write the addition the other way around?"
      ]
    },
    {
      "cell_type": "code",
      "execution_count": 110,
      "id": "inner-equivalent",
      "metadata": {
        "id": "inner-equivalent"
      },
      "outputs": [],
      "source": [
        "h = 381 * meter"
      ]
    },
    {
      "cell_type": "code",
      "execution_count": 111,
      "id": "nuclear-thirty",
      "metadata": {
        "id": "nuclear-thirty"
      },
      "outputs": [],
      "source": [
        "foot = units.foot\n",
        "pole_height = 10 * foot"
      ]
    },
    {
      "source": [
        "h + pole_height"
      ],
      "cell_type": "code",
      "metadata": {
        "id": "uY0enWCttOGU",
        "colab": {
          "base_uri": "https://localhost:8080/",
          "height": 34
        },
        "outputId": "773a6a1f-fc9f-44a4-9bfd-bf46743921ca"
      },
      "execution_count": 112,
      "outputs": [
        {
          "output_type": "execute_result",
          "data": {
            "text/plain": [
              "<Quantity(384.048, 'meter')>"
            ],
            "text/html": [
              "384.048 meter"
            ],
            "text/latex": "$384.048\\ \\mathrm{meter}$"
          },
          "metadata": {},
          "execution_count": 112
        }
      ],
      "id": "uY0enWCttOGU"
    },
    {
      "cell_type": "code",
      "source": [],
      "metadata": {
        "id": "DzqYRsectZ6z"
      },
      "id": "DzqYRsectZ6z",
      "execution_count": 112,
      "outputs": []
    },
    {
      "cell_type": "code",
      "execution_count": 112,
      "id": "available-steering",
      "metadata": {
        "id": "available-steering"
      },
      "outputs": [],
      "source": []
    },
    {
      "cell_type": "markdown",
      "id": "aggressive-climate",
      "metadata": {
        "id": "aggressive-climate"
      },
      "source": [
        "### Exercise 4\n",
        "\n",
        "Why would it be nonsensical to add `a` and `t`? What happens if you try?"
      ]
    },
    {
      "cell_type": "code",
      "execution_count": 113,
      "id": "documentary-doctrine",
      "metadata": {
        "id": "documentary-doctrine"
      },
      "outputs": [],
      "source": [
        "a = 9.8 * meter / second**2\n",
        "t = 3.4 * second"
      ]
    },
    {
      "cell_type": "code",
      "execution_count": 134,
      "id": "primary-partner",
      "metadata": {
        "id": "primary-partner"
      },
      "outputs": [],
      "source": [
        "# a + t"
      ]
    },
    {
      "cell_type": "markdown",
      "id": "legal-audio",
      "metadata": {
        "id": "legal-audio"
      },
      "source": [
        "In this example, you should get a `DimensionalityError`, which indicates that you have violated a rule of dimensional analysis: you cannot add quantities with different dimensions.\n",
        "\n",
        "The error messages you get from Python are big and scary, but if you read them carefully, they contain a lot of useful information.\n",
        "\n",
        "The last line usually tells you what type of error happened, and sometimes additional information, so you might want to start from the bottom and read up.\n",
        "\n",
        "The previous lines are a *traceback* of what was happening when the error occurred.  The first section of the traceback shows the code you wrote.  The following sections are often from Python libraries."
      ]
    },
    {
      "cell_type": "markdown",
      "id": "steady-chancellor",
      "metadata": {
        "tags": [],
        "id": "steady-chancellor"
      },
      "source": [
        "Before you go on, you might want to delete the erroneous code so the notebook can run without errors."
      ]
    },
    {
      "cell_type": "markdown",
      "id": "valid-empire",
      "metadata": {
        "id": "valid-empire"
      },
      "source": [
        "### Exercise 5\n",
        "\n",
        "Suppose instead of dropping the penny, you throw it downward at its terminal velocity, $29$ m/s.  How long would it take to fall $381$ m?"
      ]
    },
    {
      "cell_type": "code",
      "execution_count": 136,
      "id": "greenhouse-reason",
      "metadata": {
        "colab": {
          "base_uri": "https://localhost:8080/"
        },
        "id": "greenhouse-reason",
        "outputId": "bfa27196-7082-49af-9ad5-513b11edf2e3"
      },
      "outputs": [
        {
          "output_type": "stream",
          "name": "stdout",
          "text": [
            "13.137931034482758 second\n"
          ]
        }
      ],
      "source": [
        "# Solution goes here\n",
        "distance = 381 * units.meter\n",
        "speed = 29 * units.meter / units.second  # Terminal velocity of the penny\n",
        "\n",
        "\n",
        "time = distance / speed\n",
        "print(time)\n"
      ]
    },
    {
      "cell_type": "markdown",
      "id": "asian-murray",
      "metadata": {
        "id": "asian-murray"
      },
      "source": [
        "### Exercise 6:\n",
        "\n",
        "So far we have considered two models of a falling penny:\n",
        "\n",
        "* If we ignore air resistance, the penny falls with constant acceleration, and we can compute the time to reach the sidewalk and the velocity of the penny when it gets there.\n",
        "\n",
        "* If we take air resistance into account, and drop the penny at its terminal velocity, it falls with constant velocity.\n",
        "\n",
        "Now let's consider a third model that includes elements of the first two: let's assume that the acceleration of the penny is `a` until the penny reaches $29$ m/s, and then $0$ m/s$^2$ afterwards.  What is the total time for the penny to fall $381$ m?"
      ]
    },
    {
      "cell_type": "markdown",
      "id": "detailed-minnesota",
      "metadata": {
        "id": "detailed-minnesota"
      },
      "source": [
        "You can break this question into three parts:\n",
        "\n",
        "1. How long would the penny take to reach $29$ m/s with constant acceleration `a`.\n",
        "2. How far would it fall during that time?\n",
        "3. How long would it take to fall the remaining distance with constant velocity $29$ m/s?\n",
        "\n",
        "Suggestion: Assign each intermediate result to a variable with a meaningful name.  And assign units to all quantities!"
      ]
    },
    {
      "cell_type": "code",
      "execution_count": 137,
      "id": "secure-crowd",
      "metadata": {
        "id": "secure-crowd"
      },
      "outputs": [],
      "source": [
        "a = 9.8 * meter / second**2\n",
        "h = 381 * meter\n",
        "v = 29 * meter / second"
      ]
    },
    {
      "cell_type": "code",
      "execution_count": 142,
      "id": "thirty-minneapolis",
      "metadata": {
        "colab": {
          "base_uri": "https://localhost:8080/",
          "height": 34
        },
        "id": "thirty-minneapolis",
        "outputId": "e7ac46c3-564f-4bae-bd88-07874360220c"
      },
      "outputs": [
        {
          "output_type": "execute_result",
          "data": {
            "text/plain": [
              "<Quantity(2.95918367, 'second')>"
            ],
            "text/html": [
              "2.9591836734693877 second"
            ],
            "text/latex": "$2.9591836734693877\\ \\mathrm{second}$"
          },
          "metadata": {},
          "execution_count": 142
        }
      ],
      "source": [
        "# Solution goes here\n",
        "time_to_29 = v/a\n",
        "time_to_29"
      ]
    },
    {
      "cell_type": "code",
      "execution_count": 143,
      "id": "premier-seeking",
      "metadata": {
        "colab": {
          "base_uri": "https://localhost:8080/",
          "height": 34
        },
        "id": "premier-seeking",
        "outputId": "728e4705-2e7b-407e-9269-53581cfb8f87"
      },
      "outputs": [
        {
          "output_type": "execute_result",
          "data": {
            "text/plain": [
              "<Quantity(42.9081633, 'meter')>"
            ],
            "text/html": [
              "42.90816326530612 meter"
            ],
            "text/latex": "$42.90816326530612\\ \\mathrm{meter}$"
          },
          "metadata": {},
          "execution_count": 143
        }
      ],
      "source": [
        "# Solution goes here\n",
        "distance_to_29 = a * time_to_29**2 / 2\n",
        "distance_to_29"
      ]
    },
    {
      "cell_type": "code",
      "execution_count": 156,
      "id": "brave-laundry",
      "metadata": {
        "colab": {
          "base_uri": "https://localhost:8080/",
          "height": 34
        },
        "id": "brave-laundry",
        "outputId": "dab18710-a752-48d1-cf58-674fec50e572"
      },
      "outputs": [
        {
          "output_type": "execute_result",
          "data": {
            "text/plain": [
              "<Quantity(11.6583392, 'second')>"
            ],
            "text/html": [
              "11.658339197748065 second"
            ],
            "text/latex": "$11.658339197748065\\ \\mathrm{second}$"
          },
          "metadata": {},
          "execution_count": 156
        }
      ],
      "source": [
        "# Solution goes here\n",
        "new = h - distance_to_29\n",
        "time_to_finish= new / v\n",
        "time_to_finish"
      ]
    },
    {
      "cell_type": "code",
      "execution_count": 156,
      "id": "adjusted-consultation",
      "metadata": {
        "id": "adjusted-consultation"
      },
      "outputs": [],
      "source": [
        ""
      ]
    },
    {
      "cell_type": "code",
      "execution_count": 144,
      "id": "understanding-consortium",
      "metadata": {
        "id": "understanding-consortium"
      },
      "outputs": [],
      "source": []
    },
    {
      "cell_type": "markdown",
      "id": "composed-tunnel",
      "metadata": {
        "id": "composed-tunnel"
      },
      "source": [
        "### Exercise 7\n",
        "\n",
        "When I was in high school, the pitcher on the baseball team claimed that when he threw a fastball he was throwing the ball down; that is, the ball left his hand at a downward angle.\n",
        "I was skeptical; watching from the side, I thought the ball left his hand at an upward angle.\n",
        "\n",
        "Can you think of a simple model you could use to settle the argument?  What factors would you include and what could you ignore?  What quantities would you have to look up or estimate?\n",
        "\n",
        "I suggest you convert all quantities to SI units like meters and seconds (see <https://en.wikipedia.org/wiki/International_System_of_Units>)."
      ]
    },
    {
      "cell_type": "code",
      "execution_count": 121,
      "id": "about-complex",
      "metadata": {
        "id": "about-complex"
      },
      "outputs": [],
      "source": [
        "# Solution goes here\n",
        "# I plan to ignore air resistance, and how the ball spins"
      ]
    },
    {
      "cell_type": "code",
      "execution_count": 122,
      "id": "unique-owner",
      "metadata": {
        "id": "unique-owner"
      },
      "outputs": [],
      "source": [
        "# Solution goes here\n",
        "# Factors to Include:\n",
        "# Initial Velocity (v₀): The speed at which the ball is thrown.\n",
        "# Release Height (h): The height from which the ball is released.\n",
        "# Distance to Home Plate (d): The horizontal distance from the pitcher to the catcher.\n",
        "# Gravity (g): The acceleration due to gravity (9.81 m/s²).\n"
      ]
    },
    {
      "cell_type": "code",
      "execution_count": 123,
      "id": "minus-batman",
      "metadata": {
        "id": "minus-batman"
      },
      "outputs": [],
      "source": [
        "# Solution goes here"
      ]
    },
    {
      "cell_type": "code",
      "execution_count": 160,
      "id": "exact-vegetable",
      "metadata": {
        "colab": {
          "base_uri": "https://localhost:8080/"
        },
        "id": "exact-vegetable",
        "outputId": "7c0fe59e-301f-4260-fba7-b979128700c5"
      },
      "outputs": [
        {
          "output_type": "stream",
          "name": "stdout",
          "text": [
            "The angle at which the ball is thrown: -3.64 degrees\n"
          ]
        }
      ],
      "source": [
        "# Solution goes here\n",
        "import numpy as np\n",
        "from scipy.optimize import fsolve #Use fsolve from scipy.optimize to solve for the\n",
        "#angle θ that satisfies the vertical motion equation when the ball reaches home plate.\n",
        "\n",
        "# Given quantities i have to consider\n",
        "v0 = 45  # initial velocity in m/s\n",
        "h = 2  # release height in meters\n",
        "d = 18.44  # distance to home plate in meters\n",
        "g = 9.81  # acceleration due to gravity in m/s^2\n",
        "\n",
        "# Function to solve for the angle θ\n",
        "def equations(theta):\n",
        "    theta_rad = np.radians(theta)\n",
        "    t = d / (v0 * np.cos(theta_rad))\n",
        "    y = h + v0 * np.sin(theta_rad) * t - 0.5 * g * t**2\n",
        "    return y\n",
        "\n",
        "# Initial guess for the angle\n",
        "initial_guess = 0\n",
        "\n",
        "# Solve for the angle\n",
        "angle_solution = fsolve(equations, initial_guess)\n",
        "\n",
        "print(f\"The angle at which the ball is thrown: {angle_solution[0]:.2f} degrees\")"
      ]
    },
    {
      "cell_type": "code",
      "execution_count": 159,
      "id": "neutral-lightning",
      "metadata": {
        "id": "neutral-lightning"
      },
      "outputs": [],
      "source": [
        "# Solution goes here"
      ]
    },
    {
      "cell_type": "markdown",
      "id": "jewish-secret",
      "metadata": {
        "id": "jewish-secret"
      },
      "source": [
        "### Exercise 8\n",
        "\n",
        "Suppose I run a 10K race in 44:52 (44 minutes and 52 seconds).  What is my average pace in minutes per mile?"
      ]
    },
    {
      "cell_type": "code",
      "execution_count": 126,
      "id": "virgin-cambodia",
      "metadata": {
        "id": "virgin-cambodia"
      },
      "outputs": [],
      "source": [
        "mile = units.mile\n",
        "kilometer = units.kilometer\n",
        "minute = units.minute"
      ]
    },
    {
      "cell_type": "code",
      "execution_count": 154,
      "id": "right-intention",
      "metadata": {
        "colab": {
          "base_uri": "https://localhost:8080/",
          "height": 34
        },
        "id": "right-intention",
        "outputId": "9ae4a782-2137-46f4-beb6-0a2e6d5b26dd"
      },
      "outputs": [
        {
          "output_type": "execute_result",
          "data": {
            "text/plain": [
              "<Quantity(6.21371192, 'mile')>"
            ],
            "text/html": [
              "6.2137119223733395 mile"
            ],
            "text/latex": "$6.2137119223733395\\ \\mathrm{mile}$"
          },
          "metadata": {},
          "execution_count": 154
        }
      ],
      "source": [
        "# Solution goes here\n",
        "time = 44.875 * minute\n",
        "distance = 10 * kilometer\n",
        "distance = distance.to(mile)\n",
        "distance"
      ]
    },
    {
      "cell_type": "code",
      "execution_count": 155,
      "id": "mineral-sally",
      "metadata": {
        "colab": {
          "base_uri": "https://localhost:8080/",
          "height": 34
        },
        "id": "mineral-sally",
        "outputId": "0c78c858-f36a-45a1-94ee-d88fd3326872"
      },
      "outputs": [
        {
          "output_type": "execute_result",
          "data": {
            "text/plain": [
              "<Quantity(7.2219312, 'minute / mile')>"
            ],
            "text/html": [
              "7.2219312 minute/mile"
            ],
            "text/latex": "$7.2219312\\ \\frac{\\mathrm{minute}}{\\mathrm{mile}}$"
          },
          "metadata": {},
          "execution_count": 155
        }
      ],
      "source": [
        "# Solution goes here\n",
        "pace = time / distance\n",
        "pace"
      ]
    },
    {
      "cell_type": "code",
      "execution_count": 129,
      "id": "coral-camel",
      "metadata": {
        "id": "coral-camel"
      },
      "outputs": [],
      "source": [
        "# Solution goes here"
      ]
    },
    {
      "cell_type": "code",
      "execution_count": 130,
      "id": "preceding-cricket",
      "metadata": {
        "id": "preceding-cricket"
      },
      "outputs": [],
      "source": [
        "# Solution goes here"
      ]
    },
    {
      "cell_type": "code",
      "execution_count": 131,
      "id": "effective-rendering",
      "metadata": {
        "id": "effective-rendering"
      },
      "outputs": [],
      "source": [
        "# Solution goes here"
      ]
    },
    {
      "cell_type": "code",
      "execution_count": 132,
      "id": "printable-reply",
      "metadata": {
        "id": "printable-reply"
      },
      "outputs": [],
      "source": [
        "# Solution goes here"
      ]
    },
    {
      "cell_type": "markdown",
      "id": "environmental-wallet",
      "metadata": {
        "tags": [],
        "id": "environmental-wallet"
      },
      "source": [
        "## More Jupyter\n",
        "\n",
        "You can add and remove cells from a notebook using the buttons in the toolbar and the items in the menu, both of which you should see at the top of this notebook.\n",
        "\n",
        "Try the following exercises:\n",
        "\n",
        "1.  From the Insert menu select \"Insert cell below\" to add a cell below this one.  By default, you get a code cell, as you can see in the pulldown menu that says \"Code\".\n",
        "\n",
        "2.  In the new cell, add a print statement like `print('Hello')`, and run it.\n",
        "\n",
        "3.  Add another cell, select the new cell, and then click on the pulldown menu that says \"Code\" and select \"Markdown\".  This makes the new cell a text cell.\n",
        "\n",
        "4.  In the new cell, type some text, and then run it.\n",
        "\n",
        "5.  Use the arrow buttons in the toolbar to move cells up and down.\n",
        "\n",
        "6.  Use the cut, copy, and paste buttons to delete, add, and move cells.\n",
        "\n",
        "7.  As you make changes, Jupyter saves your notebook automatically, but if you want to make sure, you can press the save button, which looks like a floppy disk from the 1990s.\n",
        "\n",
        "8.  Finally, when you are done with a notebook, select \"Close and Halt\" from the File menu."
      ]
    },
    {
      "cell_type": "markdown",
      "id": "successful-kentucky",
      "metadata": {
        "tags": [],
        "id": "successful-kentucky"
      },
      "source": [
        "When you change the contents of a cell, you have to run it again for those changes to have an effect.  If you forget to do that, the results can be confusing, because the code you are looking at is not the code you ran.\n",
        "\n",
        "If you ever lose track of which cells have run, and in what order, you should go to the Kernel menu and select \"Restart & Run All\".  Restarting the kernel means that all of your variables get deleted, and running all the cells means all of your code will run again, in the right order.\n",
        "\n",
        "Select \"Restart & Run All\" now and confirm that it runs all of the cells."
      ]
    },
    {
      "cell_type": "code",
      "execution_count": 132,
      "id": "weighted-quebec",
      "metadata": {
        "id": "weighted-quebec"
      },
      "outputs": [],
      "source": []
    }
  ],
  "metadata": {
    "celltoolbar": "Tags",
    "kernelspec": {
      "display_name": "Python 3 (ipykernel)",
      "language": "python",
      "name": "python3"
    },
    "language_info": {
      "codemirror_mode": {
        "name": "ipython",
        "version": 3
      },
      "file_extension": ".py",
      "mimetype": "text/x-python",
      "name": "python",
      "nbconvert_exporter": "python",
      "pygments_lexer": "ipython3",
      "version": "3.10.13"
    },
    "colab": {
      "provenance": []
    }
  },
  "nbformat": 4,
  "nbformat_minor": 5
}